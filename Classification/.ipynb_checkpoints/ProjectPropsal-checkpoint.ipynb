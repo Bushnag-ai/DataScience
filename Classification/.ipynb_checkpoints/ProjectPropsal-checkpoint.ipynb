{
 "cells": [
  {
   "cell_type": "markdown",
   "id": "0eba3f07-e0e6-45e8-9934-99c9b30fe122",
   "metadata": {},
   "source": [
    "# automobile_customer_segmentaion\n",
    "predicting the cluster of automobile customers\n",
    "\n",
    "\n",
    "\n",
    "## OVERVIEW\n",
    "Customer segmentation is the practice of dividing a customer base into groups of individuals that are similar in specific ways relevant to marketing, such as age, gender, interests and spending habits.\n",
    "\n",
    "Companies employing customer segmentation operate under the fact that every customer is different and that their marketing efforts would be better served if they target specific, smaller groups with messages that those consumers would find relevant and lead them to buy something. Companies also hope to gain a deeper understanding of their customers' preferences and needs with the idea of discovering what each segment finds most valuable to more accurately tailor marketing materials toward that segment.\n",
    "\n",
    "## DATA\n",
    "An automobile company has plans to enter new markets with their existing products (P1, P2, P3, P4 and P5). After intensive market research, they’ve deduced that the behavior of new market is similar to their existing market.\n",
    "\n",
    "In their existing market, the sales team has classified all customers into 4 segments (A, B, C, D ). Then, they performed segmented outreach and communication for different segment of customers. This strategy has work exceptionally well for them. They plan to use the same strategy on new markets and have identified 2627 new potential customers.\n",
    "\n",
    "the goal is to predict the right group of the new customers.\n",
    "\n",
    "### source:\n",
    "https://www.kaggle.com/abisheksudarshan/customer-segmentation\n",
    "\n",
    "### Description \n",
    "\n",
    "| col | Description | Type |\n",
    "| --- | --- | --- |\n",
    "| ID | Customer ID | string \n",
    "| Gender| Customer gender | string \n",
    "| Ever_Married | Marital status  | string\n",
    "| Age| customer age | int\n",
    "| Graduated | yes/no, gradtuation from college | string\n",
    "| Profession | customer's profession| string\n",
    "| Work_Experience | customer work experience in years | float\n",
    "| Spending_Score | a score of customer spending habbits (Low, Average, High) | string\n",
    "| Family_Size | number of family members| float\n",
    "| Var_1 | anonymization feauter| string\n",
    "| Segmentation (target) | segment to which the customer belongs | string\n",
    "\n",
    "\n",
    "\n",
    "## TOOLS  \n",
    "- Pandas\n",
    "- Numpy\n",
    "- Scikit-learn\n",
    "- Matplotlib\n",
    "- Seaborn\n",
    "- nltk\n",
    "- gensim"
   ]
  },
  {
   "cell_type": "code",
   "execution_count": null,
   "id": "dcfb70e1-3b7e-47e2-9e26-0e5211671092",
   "metadata": {},
   "outputs": [],
   "source": []
  }
 ],
 "metadata": {
  "kernelspec": {
   "display_name": "Python 3",
   "language": "python",
   "name": "python3"
  },
  "language_info": {
   "codemirror_mode": {
    "name": "ipython",
    "version": 3
   },
   "file_extension": ".py",
   "mimetype": "text/x-python",
   "name": "python",
   "nbconvert_exporter": "python",
   "pygments_lexer": "ipython3",
   "version": "3.8.8"
  },
  "widgets": {
   "application/vnd.jupyter.widget-state+json": {
    "state": {},
    "version_major": 2,
    "version_minor": 0
   }
  }
 },
 "nbformat": 4,
 "nbformat_minor": 5
}
