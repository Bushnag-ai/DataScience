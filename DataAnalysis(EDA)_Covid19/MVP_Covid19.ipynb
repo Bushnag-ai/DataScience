{
 "cells": [
  {
   "cell_type": "markdown",
   "id": "56ea1830-4330-4067-9e8e-692927a8a688",
   "metadata": {},
   "source": [
    "# MVP\n",
    "## Initial EDA of the 20 Top countries\n",
    "###### The data was obtained from \"Our World In Data\" from this link https://ourworldindata.org/covid-deaths \n",
    "###### It contains information about the latest pandemic(Covid-19) For more information on the data check the ProjectProposal.ipynb. \n",
    "###### The goal here is to have an overlook on the data and use simple queries to see initial EDA issues we might face. \n",
    "##### In this notebook we will:\n",
    "###### 1)Connect to our local SQL server \n",
    "###### 2)Query the data\n",
    "###### 3)Perform basic EDA to learn more about the deta\n",
    "###### 4)Make a quick observation on the top 20 countries"
   ]
  },
  {
   "cell_type": "markdown",
   "id": "70c11a10-2c39-4231-a543-3d90b28abe4e",
   "metadata": {},
   "source": [
    "#### Importing the libraries"
   ]
  },
  {
   "cell_type": "code",
   "execution_count": 1,
   "id": "4cb22d2c-c813-4386-ae5a-cb6f6f603de0",
   "metadata": {},
   "outputs": [],
   "source": [
    "import time\n",
    "import pyodbc\n",
    "import numpy as np\n",
    "import pandas as pd\n",
    "import matplotlib as plt\n",
    "import matplotlib.pyplot as plot\n",
    "\n",
    "%matplotlib inline"
   ]
  },
  {
   "cell_type": "markdown",
   "id": "4a8f8329-e91d-4aac-9e40-827d3d219c0c",
   "metadata": {},
   "source": [
    "#### Connection to the databse"
   ]
  },
  {
   "cell_type": "code",
   "execution_count": 2,
   "id": "25635b54-65ea-4e9a-8113-af0e4d11697e",
   "metadata": {},
   "outputs": [
    {
     "name": "stdout",
     "output_type": "stream",
     "text": [
      "Connection SQL Server Time  8.201894998550415\n"
     ]
    }
   ],
   "source": [
    "start = time.time()\n",
    "#connection to server\n",
    "#server info\n",
    "driver = 'SQL Server'\n",
    "server = 'LAPTOP-DE8P4OSA'\n",
    "database = 'coronaTEST'\n",
    "table ='dbo.tableData'\n",
    "tcon = 'yes'\n",
    "\n",
    "#connection\n",
    "cnn = pyodbc.connect(driver = '{SQL Server}',\n",
    "                      host = server,\n",
    "                      database = database,\n",
    "                      trusted_connection = tcon)\n",
    "total_start_time = time.time()\n",
    "end = time.time()\n",
    "print('Connection SQL Server Time ', end - start)"
   ]
  },
  {
   "cell_type": "markdown",
   "id": "db7d315c-3820-49e1-87da-07a632478fa9",
   "metadata": {},
   "source": [
    "#### Getting the column names"
   ]
  },
  {
   "cell_type": "code",
   "execution_count": null,
   "id": "858cf98e-3c2b-4659-82b3-d3f5cb3b23d9",
   "metadata": {},
   "outputs": [],
   "source": [
    "cursor = cnn.cursor()\n",
    "columns_in_db = [row.column_name for row in cursor.columns(table=table.split('.')[-1])]\n",
    "print(columns_in_db)"
   ]
  },
  {
   "cell_type": "markdown",
   "id": "af6e1b88-c886-4659-b4a9-8969326484da",
   "metadata": {},
   "source": [
    "#### Executing a simple Query"
   ]
  },
  {
   "cell_type": "code",
   "execution_count": 31,
   "id": "e2db2979-ab27-480e-876a-65460dc05356",
   "metadata": {},
   "outputs": [],
   "source": [
    "query = \"select location, total_cases, total_deaths from \"+table+\"\"\n",
    "output = pd.read_sql(query,cnn)"
   ]
  },
  {
   "cell_type": "markdown",
   "id": "be0f0373-c95b-4b05-93de-89a495cdede8",
   "metadata": {},
   "source": [
    "#### Checking the head and info"
   ]
  },
  {
   "cell_type": "code",
   "execution_count": 32,
   "id": "21c13f74-9920-4cff-bf7a-db376aeda68b",
   "metadata": {},
   "outputs": [
    {
     "data": {
      "text/html": [
       "<div>\n",
       "<style scoped>\n",
       "    .dataframe tbody tr th:only-of-type {\n",
       "        vertical-align: middle;\n",
       "    }\n",
       "\n",
       "    .dataframe tbody tr th {\n",
       "        vertical-align: top;\n",
       "    }\n",
       "\n",
       "    .dataframe thead th {\n",
       "        text-align: right;\n",
       "    }\n",
       "</style>\n",
       "<table border=\"1\" class=\"dataframe\">\n",
       "  <thead>\n",
       "    <tr style=\"text-align: right;\">\n",
       "      <th></th>\n",
       "      <th>location</th>\n",
       "      <th>total_cases</th>\n",
       "      <th>total_deaths</th>\n",
       "    </tr>\n",
       "  </thead>\n",
       "  <tbody>\n",
       "    <tr>\n",
       "      <th>0</th>\n",
       "      <td>Afghanistan</td>\n",
       "      <td>5.0</td>\n",
       "      <td>None</td>\n",
       "    </tr>\n",
       "    <tr>\n",
       "      <th>1</th>\n",
       "      <td>Afghanistan</td>\n",
       "      <td>5.0</td>\n",
       "      <td>None</td>\n",
       "    </tr>\n",
       "    <tr>\n",
       "      <th>2</th>\n",
       "      <td>Afghanistan</td>\n",
       "      <td>5.0</td>\n",
       "      <td>None</td>\n",
       "    </tr>\n",
       "    <tr>\n",
       "      <th>3</th>\n",
       "      <td>Afghanistan</td>\n",
       "      <td>5.0</td>\n",
       "      <td>None</td>\n",
       "    </tr>\n",
       "    <tr>\n",
       "      <th>4</th>\n",
       "      <td>Afghanistan</td>\n",
       "      <td>5.0</td>\n",
       "      <td>None</td>\n",
       "    </tr>\n",
       "  </tbody>\n",
       "</table>\n",
       "</div>"
      ],
      "text/plain": [
       "      location  total_cases total_deaths\n",
       "0  Afghanistan          5.0         None\n",
       "1  Afghanistan          5.0         None\n",
       "2  Afghanistan          5.0         None\n",
       "3  Afghanistan          5.0         None\n",
       "4  Afghanistan          5.0         None"
      ]
     },
     "execution_count": 32,
     "metadata": {},
     "output_type": "execute_result"
    }
   ],
   "source": [
    "output.head()"
   ]
  },
  {
   "cell_type": "code",
   "execution_count": 33,
   "id": "43cfcfd2-d6e9-467d-b7bb-d25d40524542",
   "metadata": {},
   "outputs": [
    {
     "name": "stdout",
     "output_type": "stream",
     "text": [
      "<class 'pandas.core.frame.DataFrame'>\n",
      "RangeIndex: 131917 entries, 0 to 131916\n",
      "Data columns (total 3 columns):\n",
      " #   Column        Non-Null Count   Dtype  \n",
      "---  ------        --------------   -----  \n",
      " 0   location      131917 non-null  object \n",
      " 1   total_cases   124789 non-null  float64\n",
      " 2   total_deaths  113696 non-null  object \n",
      "dtypes: float64(1), object(2)\n",
      "memory usage: 3.0+ MB\n"
     ]
    }
   ],
   "source": [
    "output.info()"
   ]
  },
  {
   "cell_type": "markdown",
   "id": "0cdbc735-75f5-4e4e-b149-00846e09d3d8",
   "metadata": {},
   "source": [
    "##### Converting the features we want to numeric from object."
   ]
  },
  {
   "cell_type": "code",
   "execution_count": 34,
   "id": "bf689936-f979-4515-af2f-15777ab4b152",
   "metadata": {},
   "outputs": [
    {
     "name": "stdout",
     "output_type": "stream",
     "text": [
      "<class 'pandas.core.frame.DataFrame'>\n",
      "RangeIndex: 131917 entries, 0 to 131916\n",
      "Data columns (total 3 columns):\n",
      " #   Column        Non-Null Count   Dtype  \n",
      "---  ------        --------------   -----  \n",
      " 0   location      131917 non-null  object \n",
      " 1   total_cases   124789 non-null  float64\n",
      " 2   total_deaths  113696 non-null  float64\n",
      "dtypes: float64(2), object(1)\n",
      "memory usage: 3.0+ MB\n"
     ]
    }
   ],
   "source": [
    "output['total_deaths'] = pd.to_numeric(output['total_deaths'])\n",
    "output.info()"
   ]
  },
  {
   "cell_type": "markdown",
   "id": "3a915db9-9eaf-4e3b-bf57-15b1dc7c1473",
   "metadata": {},
   "source": [
    "#### Replacing/filling the NAN/NULL with zeros"
   ]
  },
  {
   "cell_type": "code",
   "execution_count": 35,
   "id": "b318cb8b-0169-407b-aafd-690ecae91edb",
   "metadata": {},
   "outputs": [],
   "source": [
    "output = output.replace(np.nan, 0)\n",
    "output = output.fillna(0)"
   ]
  },
  {
   "cell_type": "markdown",
   "id": "a1c7c799-b16a-44b5-b5b8-b8d887b06046",
   "metadata": {},
   "source": [
    "##### Grouping the two DataFrames needed by location and summing the required column/feature on: 'total_deaths' and 'total_cases'"
   ]
  },
  {
   "cell_type": "code",
   "execution_count": 86,
   "id": "0784249b-b265-4ebc-a900-f361e21f0c01",
   "metadata": {},
   "outputs": [
    {
     "data": {
      "text/html": [
       "<div>\n",
       "<style scoped>\n",
       "    .dataframe tbody tr th:only-of-type {\n",
       "        vertical-align: middle;\n",
       "    }\n",
       "\n",
       "    .dataframe tbody tr th {\n",
       "        vertical-align: top;\n",
       "    }\n",
       "\n",
       "    .dataframe thead th {\n",
       "        text-align: right;\n",
       "    }\n",
       "</style>\n",
       "<table border=\"1\" class=\"dataframe\">\n",
       "  <thead>\n",
       "    <tr style=\"text-align: right;\">\n",
       "      <th></th>\n",
       "      <th>location</th>\n",
       "      <th>sum</th>\n",
       "    </tr>\n",
       "  </thead>\n",
       "  <tbody>\n",
       "    <tr>\n",
       "      <th>0</th>\n",
       "      <td>Brazil</td>\n",
       "      <td>163915601.0</td>\n",
       "    </tr>\n",
       "    <tr>\n",
       "      <th>1</th>\n",
       "      <td>India</td>\n",
       "      <td>113539864.0</td>\n",
       "    </tr>\n",
       "    <tr>\n",
       "      <th>2</th>\n",
       "      <td>Mexico</td>\n",
       "      <td>84625065.0</td>\n",
       "    </tr>\n",
       "    <tr>\n",
       "      <th>3</th>\n",
       "      <td>Peru</td>\n",
       "      <td>67311286.0</td>\n",
       "    </tr>\n",
       "    <tr>\n",
       "      <th>4</th>\n",
       "      <td>Africa</td>\n",
       "      <td>52176402.0</td>\n",
       "    </tr>\n",
       "    <tr>\n",
       "      <th>5</th>\n",
       "      <td>United Kingdom</td>\n",
       "      <td>50598212.0</td>\n",
       "    </tr>\n",
       "    <tr>\n",
       "      <th>6</th>\n",
       "      <td>Italy</td>\n",
       "      <td>47050881.0</td>\n",
       "    </tr>\n",
       "    <tr>\n",
       "      <th>7</th>\n",
       "      <td>Russia</td>\n",
       "      <td>46526584.0</td>\n",
       "    </tr>\n",
       "    <tr>\n",
       "      <th>8</th>\n",
       "      <td>France</td>\n",
       "      <td>41338719.0</td>\n",
       "    </tr>\n",
       "    <tr>\n",
       "      <th>9</th>\n",
       "      <td>Colombia</td>\n",
       "      <td>33188375.0</td>\n",
       "    </tr>\n",
       "    <tr>\n",
       "      <th>10</th>\n",
       "      <td>Spain</td>\n",
       "      <td>32684808.0</td>\n",
       "    </tr>\n",
       "    <tr>\n",
       "      <th>11</th>\n",
       "      <td>Iran</td>\n",
       "      <td>32445387.0</td>\n",
       "    </tr>\n",
       "    <tr>\n",
       "      <th>12</th>\n",
       "      <td>Argentina</td>\n",
       "      <td>29301290.0</td>\n",
       "    </tr>\n",
       "    <tr>\n",
       "      <th>13</th>\n",
       "      <td>Germany</td>\n",
       "      <td>28416412.0</td>\n",
       "    </tr>\n",
       "    <tr>\n",
       "      <th>14</th>\n",
       "      <td>Indonesia</td>\n",
       "      <td>25144450.0</td>\n",
       "    </tr>\n",
       "    <tr>\n",
       "      <th>15</th>\n",
       "      <td>South Africa</td>\n",
       "      <td>22589006.0</td>\n",
       "    </tr>\n",
       "    <tr>\n",
       "      <th>16</th>\n",
       "      <td>Poland</td>\n",
       "      <td>21246395.0</td>\n",
       "    </tr>\n",
       "    <tr>\n",
       "      <th>17</th>\n",
       "      <td>Turkey</td>\n",
       "      <td>16112448.0</td>\n",
       "    </tr>\n",
       "    <tr>\n",
       "      <th>18</th>\n",
       "      <td>Ukraine</td>\n",
       "      <td>15762422.0</td>\n",
       "    </tr>\n",
       "    <tr>\n",
       "      <th>19</th>\n",
       "      <td>Chile</td>\n",
       "      <td>11478668.0</td>\n",
       "    </tr>\n",
       "  </tbody>\n",
       "</table>\n",
       "</div>"
      ],
      "text/plain": [
       "          location          sum\n",
       "0           Brazil  163915601.0\n",
       "1            India  113539864.0\n",
       "2           Mexico   84625065.0\n",
       "3             Peru   67311286.0\n",
       "4           Africa   52176402.0\n",
       "5   United Kingdom   50598212.0\n",
       "6            Italy   47050881.0\n",
       "7           Russia   46526584.0\n",
       "8           France   41338719.0\n",
       "9         Colombia   33188375.0\n",
       "10           Spain   32684808.0\n",
       "11            Iran   32445387.0\n",
       "12       Argentina   29301290.0\n",
       "13         Germany   28416412.0\n",
       "14       Indonesia   25144450.0\n",
       "15    South Africa   22589006.0\n",
       "16          Poland   21246395.0\n",
       "17          Turkey   16112448.0\n",
       "18         Ukraine   15762422.0\n",
       "19           Chile   11478668.0"
      ]
     },
     "execution_count": 86,
     "metadata": {},
     "output_type": "execute_result"
    }
   ],
   "source": [
    "cases_DEATH = output.groupby(['location'])['total_deaths'].agg(['sum'])\n",
    "cases_DEATH = cases_DEATH.nlargest(30, 'sum').reset_index()\n",
    "cases_DEATH = cases_DEATH.iloc[10:].reset_index(drop=True)#Removing the top TEN as they are not countries\n",
    "cases_DEATH.head(20)"
   ]
  },
  {
   "cell_type": "code",
   "execution_count": 87,
   "id": "36bc8398-36f3-404c-8c64-bec86cff2fa0",
   "metadata": {},
   "outputs": [
    {
     "data": {
      "text/html": [
       "<div>\n",
       "<style scoped>\n",
       "    .dataframe tbody tr th:only-of-type {\n",
       "        vertical-align: middle;\n",
       "    }\n",
       "\n",
       "    .dataframe tbody tr th {\n",
       "        vertical-align: top;\n",
       "    }\n",
       "\n",
       "    .dataframe thead th {\n",
       "        text-align: right;\n",
       "    }\n",
       "</style>\n",
       "<table border=\"1\" class=\"dataframe\">\n",
       "  <thead>\n",
       "    <tr style=\"text-align: right;\">\n",
       "      <th></th>\n",
       "      <th>location</th>\n",
       "      <th>sum</th>\n",
       "    </tr>\n",
       "  </thead>\n",
       "  <tbody>\n",
       "    <tr>\n",
       "      <th>0</th>\n",
       "      <td>India</td>\n",
       "      <td>8.463882e+09</td>\n",
       "    </tr>\n",
       "    <tr>\n",
       "      <th>1</th>\n",
       "      <td>Brazil</td>\n",
       "      <td>5.923727e+09</td>\n",
       "    </tr>\n",
       "    <tr>\n",
       "      <th>2</th>\n",
       "      <td>Africa</td>\n",
       "      <td>2.043094e+09</td>\n",
       "    </tr>\n",
       "    <tr>\n",
       "      <th>3</th>\n",
       "      <td>Russia</td>\n",
       "      <td>2.005119e+09</td>\n",
       "    </tr>\n",
       "    <tr>\n",
       "      <th>4</th>\n",
       "      <td>France</td>\n",
       "      <td>1.919347e+09</td>\n",
       "    </tr>\n",
       "    <tr>\n",
       "      <th>5</th>\n",
       "      <td>United Kingdom</td>\n",
       "      <td>1.850964e+09</td>\n",
       "    </tr>\n",
       "    <tr>\n",
       "      <th>6</th>\n",
       "      <td>Turkey</td>\n",
       "      <td>1.654398e+09</td>\n",
       "    </tr>\n",
       "    <tr>\n",
       "      <th>7</th>\n",
       "      <td>Spain</td>\n",
       "      <td>1.383879e+09</td>\n",
       "    </tr>\n",
       "    <tr>\n",
       "      <th>8</th>\n",
       "      <td>Italy</td>\n",
       "      <td>1.366424e+09</td>\n",
       "    </tr>\n",
       "    <tr>\n",
       "      <th>9</th>\n",
       "      <td>Argentina</td>\n",
       "      <td>1.304045e+09</td>\n",
       "    </tr>\n",
       "    <tr>\n",
       "      <th>10</th>\n",
       "      <td>Colombia</td>\n",
       "      <td>1.272277e+09</td>\n",
       "    </tr>\n",
       "    <tr>\n",
       "      <th>11</th>\n",
       "      <td>Germany</td>\n",
       "      <td>1.176277e+09</td>\n",
       "    </tr>\n",
       "    <tr>\n",
       "      <th>12</th>\n",
       "      <td>Iran</td>\n",
       "      <td>1.132348e+09</td>\n",
       "    </tr>\n",
       "    <tr>\n",
       "      <th>13</th>\n",
       "      <td>Mexico</td>\n",
       "      <td>9.706577e+08</td>\n",
       "    </tr>\n",
       "    <tr>\n",
       "      <th>14</th>\n",
       "      <td>Poland</td>\n",
       "      <td>8.543302e+08</td>\n",
       "    </tr>\n",
       "    <tr>\n",
       "      <th>15</th>\n",
       "      <td>Indonesia</td>\n",
       "      <td>8.227774e+08</td>\n",
       "    </tr>\n",
       "    <tr>\n",
       "      <th>16</th>\n",
       "      <td>South Africa</td>\n",
       "      <td>7.534458e+08</td>\n",
       "    </tr>\n",
       "    <tr>\n",
       "      <th>17</th>\n",
       "      <td>Ukraine</td>\n",
       "      <td>7.130963e+08</td>\n",
       "    </tr>\n",
       "    <tr>\n",
       "      <th>18</th>\n",
       "      <td>Peru</td>\n",
       "      <td>7.066380e+08</td>\n",
       "    </tr>\n",
       "    <tr>\n",
       "      <th>19</th>\n",
       "      <td>Netherlands</td>\n",
       "      <td>5.481863e+08</td>\n",
       "    </tr>\n",
       "  </tbody>\n",
       "</table>\n",
       "</div>"
      ],
      "text/plain": [
       "          location           sum\n",
       "0            India  8.463882e+09\n",
       "1           Brazil  5.923727e+09\n",
       "2           Africa  2.043094e+09\n",
       "3           Russia  2.005119e+09\n",
       "4           France  1.919347e+09\n",
       "5   United Kingdom  1.850964e+09\n",
       "6           Turkey  1.654398e+09\n",
       "7            Spain  1.383879e+09\n",
       "8            Italy  1.366424e+09\n",
       "9        Argentina  1.304045e+09\n",
       "10        Colombia  1.272277e+09\n",
       "11         Germany  1.176277e+09\n",
       "12            Iran  1.132348e+09\n",
       "13          Mexico  9.706577e+08\n",
       "14          Poland  8.543302e+08\n",
       "15       Indonesia  8.227774e+08\n",
       "16    South Africa  7.534458e+08\n",
       "17         Ukraine  7.130963e+08\n",
       "18            Peru  7.066380e+08\n",
       "19     Netherlands  5.481863e+08"
      ]
     },
     "execution_count": 87,
     "metadata": {},
     "output_type": "execute_result"
    }
   ],
   "source": [
    "cases_INFECTED = output.groupby(['location'])['total_cases'].agg(['sum'])\n",
    "cases_INFECTED = cases_INFECTED.nlargest(30, 'sum').reset_index()\n",
    "cases_INFECTED = cases_INFECTED.iloc[10:].reset_index(drop=True)#Removing the top TEN as they are not countries\n",
    "cases_INFECTED.head(20)"
   ]
  },
  {
   "cell_type": "markdown",
   "id": "ddb488fa-4628-4db3-b2b5-ab66f7abd41c",
   "metadata": {},
   "source": [
    "#### Scatter Plot showing the Total Deaths internationally by country"
   ]
  },
  {
   "cell_type": "code",
   "execution_count": 88,
   "id": "48992bea-bbdc-4f84-aecb-19096de8f627",
   "metadata": {},
   "outputs": [
    {
     "data": {
      "image/png": "[encoded data removed]",
      "text/plain": [
       "<Figure size 600x500 with 1 Axes>"
      ]
     },
     "metadata": {
      "needs_background": "light"
     },
     "output_type": "display_data"
    }
   ],
   "source": [
    "plot.subplots(figsize=(6,5), dpi=100)\n",
    "plot.scatter(x=cases_DEATH[\"location\"], y=cases_DEATH[\"sum\"]);\n",
    "plot.title(\"Total Deaths\")\n",
    "plot.xticks(rotation=90)\n",
    "plot.show()"
   ]
  },
  {
   "cell_type": "markdown",
   "id": "34834937-1388-48b1-bdd0-7a367fdedf4d",
   "metadata": {},
   "source": [
    "#### Scatter Plot showing the Total Caes internationally by country"
   ]
  },
  {
   "cell_type": "code",
   "execution_count": 89,
   "id": "3e22db25-0bd1-4828-844b-e2dbee4fbf48",
   "metadata": {},
   "outputs": [
    {
     "data": {
      "image/png": "[encoded data removed]",
      "text/plain": [
       "<Figure size 600x500 with 1 Axes>"
      ]
     },
     "metadata": {
      "needs_background": "light"
     },
     "output_type": "display_data"
    }
   ],
   "source": [
    "plot.subplots(figsize=(6,5), dpi=100)\n",
    "plot.scatter(x=cases_INFECTED[\"location\"], y=cases_INFECTED[\"sum\"]);\n",
    "plot.title(\"Total Cases\")\n",
    "plot.xticks(rotation=90)\n",
    "plot.show()"
   ]
  },
  {
   "cell_type": "markdown",
   "id": "a26f23fd-bc14-4b48-8c24-ac63d9dbf882",
   "metadata": {},
   "source": [
    "# Conclusion \n",
    "### Initial EDA of the 20 Top countries\n",
    "#### Data observation\n",
    "The quick look at the data showed that normally the 'Null' values are dropped and not needed but in this case the 'Null' value shows important information. To use that information the nulls were converted to zeros.\n",
    "\n",
    "Secondly the date data is in object format so is some of the numerical values we will be using.\n",
    "\n",
    "Thirdly, the columns death_cases and infected_cases were picked for this MTA as those too seemd the most promising.\n",
    "\n",
    "Finally these two features showed the following:\n",
    "1)The most deaths and the most cases are in the same countries.\n",
    "2)The covid is still spreading internationally.\n",
    "3)The data shows that the Brazil has the most deaths than internationally.\n",
    "4)The data shows that India has the most cases."
   ]
  },
  {
   "cell_type": "markdown",
   "id": "ab495041-3577-4cb5-ba1e-03f3b1d501af",
   "metadata": {},
   "source": [
    "###### More EDA is needed to answer the questions in the: Project Proposal  - Corona(Covid-19)"
   ]
  }
 ],
 "metadata": {
  "kernelspec": {
   "display_name": "Python 3",
   "language": "python",
   "name": "python3"
  },
  "language_info": {
   "codemirror_mode": {
    "name": "ipython",
    "version": 3
   },
   "file_extension": ".py",
   "mimetype": "text/x-python",
   "name": "python",
   "nbconvert_exporter": "python",
   "pygments_lexer": "ipython3",
   "version": "3.8.8"
  },
  "widgets": {
   "application/vnd.jupyter.widget-state+json": {
    "state": {},
    "version_major": 2,
    "version_minor": 0
   }
  }
 },
 "nbformat": 4,
 "nbformat_minor": 5
}
