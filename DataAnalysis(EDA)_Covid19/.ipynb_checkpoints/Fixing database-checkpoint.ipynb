{
 "cells": [
  {
   "cell_type": "markdown",
   "id": "62b14fdb-63a7-4581-af4d-fd61fb75cd8a",
   "metadata": {},
   "source": [
    "# Fixing the Database \n",
    "##### After loading the data from the CVS into the SQL SERVER a few problems occured: Wrong data-types causing issues with queries, Nulls values also affecting queries and finally string characters of nominal type.\n",
    "##### In thie notebook I fixed the columns data-types from nvchar to float64, Nulls were replaced with Zeros and finally a mapping from the nominal type to int.\n",
    "##### To perform the fixing steps a dummy database of the same type of how it should be was created on SQL SERVER Microsoft prior. This database table was used to test the connection and how things should look and be like.\n",
    "\n",
    "###### Note: The data was obtained from a CSV and converted to SQL. The below steps were done to be able to perform the SQL queries for the actualy project."
   ]
  },
  {
   "cell_type": "code",
   "execution_count": 55,
   "id": "1b83e72d-4e75-4b0d-90be-fab1749faa6d",
   "metadata": {},
   "outputs": [],
   "source": [
    "import time\n",
    "import pyodbc\n",
    "import numpy as np\n",
    "import pandas as pd\n",
    "import matplotlib as plt\n",
    "import matplotlib.pyplot as plot\n",
    "import sqlalchemy\n",
    "\n",
    "%matplotlib inline"
   ]
  },
  {
   "cell_type": "markdown",
   "id": "ca11b772-80d6-4e17-a04d-c87caa665beb",
   "metadata": {},
   "source": [
    "#### Started by connecting to the dummy database"
   ]
  },
  {
   "cell_type": "code",
   "execution_count": 48,
   "id": "4aed29b3-6016-46c6-a04e-b982d0f4e4ef",
   "metadata": {},
   "outputs": [
    {
     "name": "stdout",
     "output_type": "stream",
     "text": [
      "Connection SQL Server Time  4.159135818481445\n"
     ]
    }
   ],
   "source": [
    "start = time.time()\n",
    "#connection to server\n",
    "#server info\n",
    "driver = 'SQL Server'\n",
    "server = 'LAPTOP-DE8P4OSA'\n",
    "database = 'COv3'\n",
    "table ='dbo.Covid_19d'\n",
    "tcon = 'yes'\n",
    "\n",
    "#connection\n",
    "cnn = pyodbc.connect(driver = '{SQL Server}',\n",
    "                      host = server,\n",
    "                      database = database,\n",
    "                      trusted_connection = tcon)\n",
    "total_start_time = time.time()\n",
    "end = time.time()\n",
    "print('Connection SQL Server Time ', end - start)"
   ]
  },
  {
   "cell_type": "markdown",
   "id": "4358b9fb-0b3b-4ac5-b700-8787e71f266d",
   "metadata": {},
   "source": [
    "#### Checking the data columns"
   ]
  },
  {
   "cell_type": "code",
   "execution_count": 50,
   "id": "7d612fe5-7508-4b4b-9150-c418d67ff9b1",
   "metadata": {},
   "outputs": [
    {
     "name": "stdout",
     "output_type": "stream",
     "text": [
      "['iso_code', 'continent', 'location', 'date', 'total_cases', 'new_cases', 'new_cases_smoothed', 'total_deaths', 'new_deaths', 'new_deaths_smoothed', 'total_cases_per_million', 'new_cases_per_million', 'new_cases_smoothed_per_million', 'total_deaths_per_million', 'new_deaths_per_million', 'new_deaths_smoothed_per_million', 'reproduction_rate', 'icu_patients', 'icu_patients_per_million', 'hosp_patients', 'hosp_patients_per_million', 'weekly_icu_admissions', 'weekly_icu_admissions_per_million', 'weekly_hosp_admissions', 'weekly_hosp_admissions_per_million', 'new_tests', 'total_tests', 'total_tests_per_thousand', 'new_tests_per_thousand', 'new_tests_smoothed', 'new_tests_smoothed_per_thousand', 'positive_rate', 'tests_per_case', 'tests_units', 'total_vaccinations', 'people_vaccinated', 'people_fully_vaccinated', 'total_boosters', 'new_vaccinations', 'new_vaccinations_smoothed', 'total_vaccinations_per_hundred', 'people_vaccinated_per_hundred', 'people_fully_vaccinated_per_hundred', 'total_boosters_per_hundred', 'new_vaccinations_smoothed_per_million', 'stringency_index', 'population', 'population_density', 'median_age', 'aged_65_older', 'aged_70_older', 'gdp_per_capita', 'extreme_poverty', 'cardiovasc_death_rate', 'diabetes_prevalence', 'female_smokers', 'male_smokers', 'handwashing_facilities', 'hospital_beds_per_thousand', 'life_expectancy', 'human_development_index', 'excess_mortality_cumulative_absolute', 'excess_mortality_cumulative', 'excess_mortality', 'excess_mortality_cumulative_per_million']\n"
     ]
    }
   ],
   "source": [
    "cursor = cnn.cursor()\n",
    "columns_in_db = [row.column_name for row in cursor.columns(table=table.split('.')[-1])]\n",
    "print(columns_in_db)"
   ]
  },
  {
   "cell_type": "markdown",
   "id": "6d02dced-eeca-4fd5-b917-818cb0b9434d",
   "metadata": {},
   "source": [
    "#### Checking the connection and queries"
   ]
  },
  {
   "cell_type": "code",
   "execution_count": 4,
   "id": "511e018b-4b70-403b-b053-9c0117104c24",
   "metadata": {},
   "outputs": [],
   "source": [
    "query = \"select * from \"+table+\"\"\n",
    "output = pd.read_sql(query,cnn)"
   ]
  },
  {
   "cell_type": "code",
   "execution_count": 52,
   "id": "a4ec91e9-d7ed-431f-bf99-f326d04d6174",
   "metadata": {},
   "outputs": [
    {
     "data": {
      "text/html": [
       "<div>\n",
       "<style scoped>\n",
       "    .dataframe tbody tr th:only-of-type {\n",
       "        vertical-align: middle;\n",
       "    }\n",
       "\n",
       "    .dataframe tbody tr th {\n",
       "        vertical-align: top;\n",
       "    }\n",
       "\n",
       "    .dataframe thead th {\n",
       "        text-align: right;\n",
       "    }\n",
       "</style>\n",
       "<table border=\"1\" class=\"dataframe\">\n",
       "  <thead>\n",
       "    <tr style=\"text-align: right;\">\n",
       "      <th></th>\n",
       "      <th>iso_code</th>\n",
       "      <th>continent</th>\n",
       "      <th>location</th>\n",
       "      <th>date</th>\n",
       "      <th>total_cases</th>\n",
       "      <th>new_cases</th>\n",
       "      <th>new_cases_smoothed</th>\n",
       "      <th>total_deaths</th>\n",
       "      <th>new_deaths</th>\n",
       "      <th>new_deaths_smoothed</th>\n",
       "      <th>...</th>\n",
       "      <th>female_smokers</th>\n",
       "      <th>male_smokers</th>\n",
       "      <th>handwashing_facilities</th>\n",
       "      <th>hospital_beds_per_thousand</th>\n",
       "      <th>life_expectancy</th>\n",
       "      <th>human_development_index</th>\n",
       "      <th>excess_mortality_cumulative_absolute</th>\n",
       "      <th>excess_mortality_cumulative</th>\n",
       "      <th>excess_mortality</th>\n",
       "      <th>excess_mortality_cumulative_per_million</th>\n",
       "    </tr>\n",
       "  </thead>\n",
       "  <tbody>\n",
       "  </tbody>\n",
       "</table>\n",
       "<p>0 rows × 65 columns</p>\n",
       "</div>"
      ],
      "text/plain": [
       "Empty DataFrame\n",
       "Columns: [iso_code, continent, location, date, total_cases, new_cases, new_cases_smoothed, total_deaths, new_deaths, new_deaths_smoothed, total_cases_per_million, new_cases_per_million, new_cases_smoothed_per_million, total_deaths_per_million, new_deaths_per_million, new_deaths_smoothed_per_million, reproduction_rate, icu_patients, icu_patients_per_million, hosp_patients, hosp_patients_per_million, weekly_icu_admissions, weekly_icu_admissions_per_million, weekly_hosp_admissions, weekly_hosp_admissions_per_million, new_tests, total_tests, total_tests_per_thousand, new_tests_per_thousand, new_tests_smoothed, new_tests_smoothed_per_thousand, positive_rate, tests_per_case, tests_units, total_vaccinations, people_vaccinated, people_fully_vaccinated, total_boosters, new_vaccinations, new_vaccinations_smoothed, total_vaccinations_per_hundred, people_vaccinated_per_hundred, people_fully_vaccinated_per_hundred, total_boosters_per_hundred, new_vaccinations_smoothed_per_million, stringency_index, population, population_density, median_age, aged_65_older, aged_70_older, gdp_per_capita, extreme_poverty, cardiovasc_death_rate, diabetes_prevalence, female_smokers, male_smokers, handwashing_facilities, hospital_beds_per_thousand, life_expectancy, human_development_index, excess_mortality_cumulative_absolute, excess_mortality_cumulative, excess_mortality, excess_mortality_cumulative_per_million]\n",
       "Index: []\n",
       "\n",
       "[0 rows x 65 columns]"
      ]
     },
     "execution_count": 52,
     "metadata": {},
     "output_type": "execute_result"
    }
   ],
   "source": [
    "output.head()"
   ]
  },
  {
   "cell_type": "markdown",
   "id": "8584a888-3495-44bc-be24-9f7beac2eda9",
   "metadata": {},
   "source": [
    "#### Changing the types of the columns to Float"
   ]
  },
  {
   "cell_type": "code",
   "execution_count": 7,
   "id": "d5c5a215-b952-46c4-b32c-3c0c8a1b8c36",
   "metadata": {},
   "outputs": [
    {
     "name": "stdout",
     "output_type": "stream",
     "text": [
      "<class 'pandas.core.frame.DataFrame'>\n",
      "Index: 0 entries\n",
      "Data columns (total 65 columns):\n",
      " #   Column                                   Non-Null Count  Dtype  \n",
      "---  ------                                   --------------  -----  \n",
      " 0   iso_code                                 0 non-null      object \n",
      " 1   continent                                0 non-null      object \n",
      " 2   location                                 0 non-null      object \n",
      " 3   date                                     0 non-null      object \n",
      " 4   total_cases                              0 non-null      object \n",
      " 5   new_cases                                0 non-null      float64\n",
      " 6   new_cases_smoothed                       0 non-null      float64\n",
      " 7   total_deaths                             0 non-null      float64\n",
      " 8   new_deaths                               0 non-null      float64\n",
      " 9   new_deaths_smoothed                      0 non-null      float64\n",
      " 10  total_cases_per_million                  0 non-null      float64\n",
      " 11  new_cases_per_million                    0 non-null      float64\n",
      " 12  new_cases_smoothed_per_million           0 non-null      float64\n",
      " 13  total_deaths_per_million                 0 non-null      float64\n",
      " 14  new_deaths_per_million                   0 non-null      float64\n",
      " 15  new_deaths_smoothed_per_million          0 non-null      float64\n",
      " 16  reproduction_rate                        0 non-null      float64\n",
      " 17  icu_patients                             0 non-null      float64\n",
      " 18  icu_patients_per_million                 0 non-null      float64\n",
      " 19  hosp_patients                            0 non-null      float64\n",
      " 20  hosp_patients_per_million                0 non-null      float64\n",
      " 21  weekly_icu_admissions                    0 non-null      float64\n",
      " 22  weekly_icu_admissions_per_million        0 non-null      float64\n",
      " 23  weekly_hosp_admissions                   0 non-null      float64\n",
      " 24  weekly_hosp_admissions_per_million       0 non-null      float64\n",
      " 25  new_tests                                0 non-null      float64\n",
      " 26  total_tests                              0 non-null      float64\n",
      " 27  total_tests_per_thousand                 0 non-null      float64\n",
      " 28  new_tests_per_thousand                   0 non-null      float64\n",
      " 29  new_tests_smoothed                       0 non-null      float64\n",
      " 30  new_tests_smoothed_per_thousand          0 non-null      float64\n",
      " 31  positive_rate                            0 non-null      float64\n",
      " 32  tests_per_case                           0 non-null      float64\n",
      " 33  tests_units                              0 non-null      float64\n",
      " 34  total_vaccinations                       0 non-null      float64\n",
      " 35  people_vaccinated                        0 non-null      float64\n",
      " 36  people_fully_vaccinated                  0 non-null      float64\n",
      " 37  total_boosters                           0 non-null      float64\n",
      " 38  new_vaccinations                         0 non-null      float64\n",
      " 39  new_vaccinations_smoothed                0 non-null      float64\n",
      " 40  total_vaccinations_per_hundred           0 non-null      float64\n",
      " 41  people_vaccinated_per_hundred            0 non-null      float64\n",
      " 42  people_fully_vaccinated_per_hundred      0 non-null      float64\n",
      " 43  total_boosters_per_hundred               0 non-null      float64\n",
      " 44  new_vaccinations_smoothed_per_million    0 non-null      float64\n",
      " 45  stringency_index                         0 non-null      float64\n",
      " 46  population                               0 non-null      float64\n",
      " 47  population_density                       0 non-null      float64\n",
      " 48  median_age                               0 non-null      float64\n",
      " 49  aged_65_older                            0 non-null      float64\n",
      " 50  aged_70_older                            0 non-null      float64\n",
      " 51  gdp_per_capita                           0 non-null      float64\n",
      " 52  extreme_poverty                          0 non-null      float64\n",
      " 53  cardiovasc_death_rate                    0 non-null      float64\n",
      " 54  diabetes_prevalence                      0 non-null      float64\n",
      " 55  female_smokers                           0 non-null      float64\n",
      " 56  male_smokers                             0 non-null      float64\n",
      " 57  handwashing_facilities                   0 non-null      float64\n",
      " 58  hospital_beds_per_thousand               0 non-null      float64\n",
      " 59  life_expectancy                          0 non-null      float64\n",
      " 60  human_development_index                  0 non-null      float64\n",
      " 61  excess_mortality_cumulative_absolute     0 non-null      float64\n",
      " 62  excess_mortality_cumulative              0 non-null      float64\n",
      " 63  excess_mortality                         0 non-null      float64\n",
      " 64  excess_mortality_cumulative_per_million  0 non-null      float64\n",
      "dtypes: float64(60), object(5)\n",
      "memory usage: 0.0+ bytes\n"
     ]
    }
   ],
   "source": [
    "for i in columns_in_db[5:]:\n",
    "    output[i] = output[i].astype(np.float64)\n",
    "output.info()"
   ]
  },
  {
   "cell_type": "markdown",
   "id": "9292ebc6-a0ca-465e-8af8-f32e0025d469",
   "metadata": {},
   "source": [
    "### Connecting to the actual database"
   ]
  },
  {
   "cell_type": "code",
   "execution_count": 35,
   "id": "b065157f-1ecf-46d1-b95b-edcaeaeeb3ef",
   "metadata": {},
   "outputs": [
    {
     "name": "stdout",
     "output_type": "stream",
     "text": [
      "Connection SQL Server Time  4.106926441192627\n"
     ]
    }
   ],
   "source": [
    "start = time.time()\n",
    "#connection to server\n",
    "#server info\n",
    "driver = 'SQL Server'\n",
    "server = 'LAPTOP-DE8P4OSA'\n",
    "database_in = 'coronaTEST'\n",
    "table_in ='dbo.tableData'\n",
    "tcon = 'yes'\n",
    "\n",
    "#connection\n",
    "cnn_in = pyodbc.connect(driver = '{SQL Server}',\n",
    "                      host = server,\n",
    "                      database = database_in,\n",
    "                      trusted_connection = tcon)\n",
    "total_start_time = time.time()\n",
    "end = time.time()\n",
    "print('Connection SQL Server Time ', end - start)"
   ]
  },
  {
   "cell_type": "markdown",
   "id": "cdda7bf6-6a22-4115-aae6-081e69672c84",
   "metadata": {},
   "source": [
    "#### Getting the data from the database"
   ]
  },
  {
   "cell_type": "code",
   "execution_count": 36,
   "id": "57f51f4b-eab5-4b0b-8097-d5b4fa326c77",
   "metadata": {},
   "outputs": [],
   "source": [
    "#query_in = \"select TOP (10) [iso_code],[continent],[location],[date],[total_cases],[new_cases],[new_cases_smoothed],[total_deaths],[new_deaths],[new_deaths_smoothed],[total_cases_per_million],[new_cases_per_million],[new_cases_smoothed_per_million],[total_deaths_per_million],[new_deaths_per_million],[new_deaths_smoothed_per_million],[reproduction_rate],[icu_patients],[icu_patients_per_million],[hosp_patients],[hosp_patients_per_million],[weekly_icu_admissions],[weekly_icu_admissions_per_million],[weekly_hosp_admissions],[weekly_hosp_admissions_per_million],[new_tests],[total_tests],[total_tests_per_thousand],[new_tests_per_thousand],[new_tests_smoothed],[new_tests_smoothed_per_thousand],[positive_rate],[tests_per_case],[tests_units],[total_vaccinations],[people_vaccinated],[people_fully_vaccinated],[total_boosters],[new_vaccinations],[new_vaccinations_smoothed],[total_vaccinations_per_hundred],[people_vaccinated_per_hundred],[people_fully_vaccinated_per_hundred],[total_boosters_per_hundred],[new_vaccinations_smoothed_per_million],[stringency_index],[population],[population_density],[median_age],[aged_65_older],[aged_70_older],[gdp_per_capita],[extreme_poverty],[cardiovasc_death_rate],[diabetes_prevalence],[female_smokers],[male_smokers],[handwashing_facilities],[hospital_beds_per_thousand],[life_expectancy],[human_development_index],[excess_mortality_cumulative_absolute],[excess_mortality_cumulative],[excess_mortality],[excess_mortality_cumulative_per_million] FROM \"+table_in+\"\"\n",
    "query_in = \"select * FROM \" + table_in + \"\"\n",
    "output_in = pd.read_sql(query_in,cnn_in)"
   ]
  },
  {
   "cell_type": "code",
   "execution_count": 42,
   "id": "d432e6cc-c7a9-43ff-ace3-49bf0ec425dc",
   "metadata": {},
   "outputs": [
    {
     "name": "stdout",
     "output_type": "stream",
     "text": [
      "['iso_code', 'continent', 'location', 'date', 'total_cases', 'new_cases', 'new_cases_smoothed', 'total_deaths', 'new_deaths', 'new_deaths_smoothed', 'total_cases_per_million', 'new_cases_per_million', 'new_cases_smoothed_per_million', 'total_deaths_per_million', 'new_deaths_per_million', 'new_deaths_smoothed_per_million', 'reproduction_rate', 'icu_patients', 'icu_patients_per_million', 'hosp_patients', 'hosp_patients_per_million', 'weekly_icu_admissions', 'weekly_icu_admissions_per_million', 'weekly_hosp_admissions', 'weekly_hosp_admissions_per_million', 'new_tests', 'total_tests', 'total_tests_per_thousand', 'new_tests_per_thousand', 'new_tests_smoothed', 'new_tests_smoothed_per_thousand', 'positive_rate', 'tests_per_case', 'tests_units', 'total_vaccinations', 'people_vaccinated', 'people_fully_vaccinated', 'total_boosters', 'new_vaccinations', 'new_vaccinations_smoothed', 'total_vaccinations_per_hundred', 'people_vaccinated_per_hundred', 'people_fully_vaccinated_per_hundred', 'total_boosters_per_hundred', 'new_vaccinations_smoothed_per_million', 'stringency_index', 'population', 'population_density', 'median_age', 'aged_65_older', 'aged_70_older', 'gdp_per_capita', 'extreme_poverty', 'cardiovasc_death_rate', 'diabetes_prevalence', 'female_smokers', 'male_smokers', 'handwashing_facilities', 'hospital_beds_per_thousand', 'life_expectancy', 'human_development_index', 'excess_mortality_cumulative_absolute', 'excess_mortality_cumulative', 'excess_mortality', 'excess_mortality_cumulative_per_million']\n"
     ]
    }
   ],
   "source": [
    "cursor_in = cnn_in.cursor()\n",
    "columns_in_db_in = [row.column_name for row in cursor_in.columns(table=table_in.split('.')[-1])]\n",
    "print(columns_in_db_in)"
   ]
  },
  {
   "cell_type": "code",
   "execution_count": 11,
   "id": "d2aee5bb-ea51-4fc9-b18c-a78fe1cd3c7c",
   "metadata": {},
   "outputs": [
    {
     "data": {
      "text/html": [
       "<div>\n",
       "<style scoped>\n",
       "    .dataframe tbody tr th:only-of-type {\n",
       "        vertical-align: middle;\n",
       "    }\n",
       "\n",
       "    .dataframe tbody tr th {\n",
       "        vertical-align: top;\n",
       "    }\n",
       "\n",
       "    .dataframe thead th {\n",
       "        text-align: right;\n",
       "    }\n",
       "</style>\n",
       "<table border=\"1\" class=\"dataframe\">\n",
       "  <thead>\n",
       "    <tr style=\"text-align: right;\">\n",
       "      <th></th>\n",
       "      <th>iso_code</th>\n",
       "      <th>continent</th>\n",
       "      <th>location</th>\n",
       "      <th>date</th>\n",
       "      <th>total_cases</th>\n",
       "      <th>new_cases</th>\n",
       "      <th>new_cases_smoothed</th>\n",
       "      <th>total_deaths</th>\n",
       "      <th>new_deaths</th>\n",
       "      <th>new_deaths_smoothed</th>\n",
       "      <th>...</th>\n",
       "      <th>female_smokers</th>\n",
       "      <th>male_smokers</th>\n",
       "      <th>handwashing_facilities</th>\n",
       "      <th>hospital_beds_per_thousand</th>\n",
       "      <th>life_expectancy</th>\n",
       "      <th>human_development_index</th>\n",
       "      <th>excess_mortality_cumulative_absolute</th>\n",
       "      <th>excess_mortality_cumulative</th>\n",
       "      <th>excess_mortality</th>\n",
       "      <th>excess_mortality_cumulative_per_million</th>\n",
       "    </tr>\n",
       "  </thead>\n",
       "  <tbody>\n",
       "    <tr>\n",
       "      <th>0</th>\n",
       "      <td>AFG</td>\n",
       "      <td>Asia</td>\n",
       "      <td>Afghanistan</td>\n",
       "      <td>2020-02-24</td>\n",
       "      <td>5.0</td>\n",
       "      <td>5.0</td>\n",
       "      <td>NaN</td>\n",
       "      <td>None</td>\n",
       "      <td>None</td>\n",
       "      <td>NaN</td>\n",
       "      <td>...</td>\n",
       "      <td>None</td>\n",
       "      <td>None</td>\n",
       "      <td>37.746</td>\n",
       "      <td>0.5</td>\n",
       "      <td>64.83</td>\n",
       "      <td>0.511</td>\n",
       "      <td>None</td>\n",
       "      <td>None</td>\n",
       "      <td>None</td>\n",
       "      <td>None</td>\n",
       "    </tr>\n",
       "    <tr>\n",
       "      <th>1</th>\n",
       "      <td>AFG</td>\n",
       "      <td>Asia</td>\n",
       "      <td>Afghanistan</td>\n",
       "      <td>2020-02-25</td>\n",
       "      <td>5.0</td>\n",
       "      <td>0.0</td>\n",
       "      <td>NaN</td>\n",
       "      <td>None</td>\n",
       "      <td>None</td>\n",
       "      <td>NaN</td>\n",
       "      <td>...</td>\n",
       "      <td>None</td>\n",
       "      <td>None</td>\n",
       "      <td>37.746</td>\n",
       "      <td>0.5</td>\n",
       "      <td>64.83</td>\n",
       "      <td>0.511</td>\n",
       "      <td>None</td>\n",
       "      <td>None</td>\n",
       "      <td>None</td>\n",
       "      <td>None</td>\n",
       "    </tr>\n",
       "  </tbody>\n",
       "</table>\n",
       "<p>2 rows × 65 columns</p>\n",
       "</div>"
      ],
      "text/plain": [
       "  iso_code continent     location       date  total_cases  new_cases  \\\n",
       "0      AFG      Asia  Afghanistan 2020-02-24          5.0        5.0   \n",
       "1      AFG      Asia  Afghanistan 2020-02-25          5.0        0.0   \n",
       "\n",
       "   new_cases_smoothed total_deaths new_deaths  new_deaths_smoothed  ...  \\\n",
       "0                 NaN         None       None                  NaN  ...   \n",
       "1                 NaN         None       None                  NaN  ...   \n",
       "\n",
       "   female_smokers  male_smokers  handwashing_facilities  \\\n",
       "0            None          None                  37.746   \n",
       "1            None          None                  37.746   \n",
       "\n",
       "  hospital_beds_per_thousand life_expectancy  human_development_index  \\\n",
       "0                        0.5           64.83                    0.511   \n",
       "1                        0.5           64.83                    0.511   \n",
       "\n",
       "  excess_mortality_cumulative_absolute excess_mortality_cumulative  \\\n",
       "0                                 None                        None   \n",
       "1                                 None                        None   \n",
       "\n",
       "  excess_mortality excess_mortality_cumulative_per_million  \n",
       "0             None                                    None  \n",
       "1             None                                    None  \n",
       "\n",
       "[2 rows x 65 columns]"
      ]
     },
     "execution_count": 11,
     "metadata": {},
     "output_type": "execute_result"
    }
   ],
   "source": [
    "output_in.head(5)"
   ]
  },
  {
   "cell_type": "markdown",
   "id": "9cc8bb4d-c194-444a-a6de-e2b864fef612",
   "metadata": {},
   "source": [
    "#### Checking the Nulls and types in the data"
   ]
  },
  {
   "cell_type": "code",
   "execution_count": 12,
   "id": "3986e785-e5c9-4f89-bf38-68a069e0902f",
   "metadata": {},
   "outputs": [
    {
     "name": "stdout",
     "output_type": "stream",
     "text": [
      "<class 'pandas.core.frame.DataFrame'>\n",
      "RangeIndex: 131917 entries, 0 to 131916\n",
      "Data columns (total 65 columns):\n",
      " #   Column                                   Non-Null Count   Dtype         \n",
      "---  ------                                   --------------   -----         \n",
      " 0   iso_code                                 131917 non-null  object        \n",
      " 1   continent                                123482 non-null  object        \n",
      " 2   location                                 131917 non-null  object        \n",
      " 3   date                                     131917 non-null  datetime64[ns]\n",
      " 4   total_cases                              124789 non-null  float64       \n",
      " 5   new_cases                                124787 non-null  float64       \n",
      " 6   new_cases_smoothed                       123744 non-null  float64       \n",
      " 7   total_deaths                             113696 non-null  object        \n",
      " 8   new_deaths                               113892 non-null  object        \n",
      " 9   new_deaths_smoothed                      123744 non-null  float64       \n",
      " 10  total_cases_per_million                  124148 non-null  float64       \n",
      " 11  new_cases_per_million                    124146 non-null  float64       \n",
      " 12  new_cases_smoothed_per_million           123108 non-null  float64       \n",
      " 13  total_deaths_per_million                 113068 non-null  object        \n",
      " 14  new_deaths_per_million                   113264 non-null  object        \n",
      " 15  new_deaths_smoothed_per_million          123108 non-null  float64       \n",
      " 16  reproduction_rate                        104056 non-null  object        \n",
      " 17  icu_patients                             15785 non-null   object        \n",
      " 18  icu_patients_per_million                 15785 non-null   object        \n",
      " 19  hosp_patients                            18502 non-null   object        \n",
      " 20  hosp_patients_per_million                18502 non-null   object        \n",
      " 21  weekly_icu_admissions                    1280 non-null    object        \n",
      " 22  weekly_icu_admissions_per_million        1280 non-null    object        \n",
      " 23  weekly_hosp_admissions                   2150 non-null    object        \n",
      " 24  weekly_hosp_admissions_per_million       2150 non-null    object        \n",
      " 25  new_tests                                54811 non-null   object        \n",
      " 26  total_tests                              55003 non-null   object        \n",
      " 27  total_tests_per_thousand                 55003 non-null   object        \n",
      " 28  new_tests_per_thousand                   54811 non-null   object        \n",
      " 29  new_tests_smoothed                       66363 non-null   object        \n",
      " 30  new_tests_smoothed_per_thousand          66363 non-null   object        \n",
      " 31  positive_rate                            62363 non-null   object        \n",
      " 32  tests_per_case                           61706 non-null   object        \n",
      " 33  tests_units                              68363 non-null   object        \n",
      " 34  total_vaccinations                       32888 non-null   object        \n",
      " 35  people_vaccinated                        31374 non-null   object        \n",
      " 36  people_fully_vaccinated                  28370 non-null   object        \n",
      " 37  total_boosters                           5614 non-null    object        \n",
      " 38  new_vaccinations                         27397 non-null   object        \n",
      " 39  new_vaccinations_smoothed                58468 non-null   object        \n",
      " 40  total_vaccinations_per_hundred           32888 non-null   object        \n",
      " 41  people_vaccinated_per_hundred            31374 non-null   object        \n",
      " 42  people_fully_vaccinated_per_hundred      28370 non-null   object        \n",
      " 43  total_boosters_per_hundred               5614 non-null    object        \n",
      " 44  new_vaccinations_smoothed_per_million    58468 non-null   object        \n",
      " 45  stringency_index                         107901 non-null  float64       \n",
      " 46  population                               130980 non-null  float64       \n",
      " 47  population_density                       119437 non-null  float64       \n",
      " 48  median_age                               113860 non-null  float64       \n",
      " 49  aged_65_older                            112600 non-null  float64       \n",
      " 50  aged_70_older                            113238 non-null  float64       \n",
      " 51  gdp_per_capita                           114601 non-null  float64       \n",
      " 52  extreme_poverty                          76646 non-null   object        \n",
      " 53  cardiovasc_death_rate                    114116 non-null  float64       \n",
      " 54  diabetes_prevalence                      117824 non-null  float64       \n",
      " 55  female_smokers                           88899 non-null   object        \n",
      " 56  male_smokers                             87613 non-null   object        \n",
      " 57  handwashing_facilities                   57428 non-null   float64       \n",
      " 58  hospital_beds_per_thousand               103706 non-null  float64       \n",
      " 59  life_expectancy                          122639 non-null  float64       \n",
      " 60  human_development_index                  114212 non-null  float64       \n",
      " 61  excess_mortality_cumulative_absolute     4623 non-null    object        \n",
      " 62  excess_mortality_cumulative              4623 non-null    object        \n",
      " 63  excess_mortality                         4623 non-null    object        \n",
      " 64  excess_mortality_cumulative_per_million  4623 non-null    object        \n",
      "dtypes: datetime64[ns](1), float64(21), object(43)\n",
      "memory usage: 65.4+ MB\n"
     ]
    }
   ],
   "source": [
    "output_in.info()"
   ]
  },
  {
   "cell_type": "markdown",
   "id": "3e5881a1-2a6e-4785-adc1-8b8cce36e3eb",
   "metadata": {},
   "source": [
    "#### Removing the Nulls"
   ]
  },
  {
   "cell_type": "code",
   "execution_count": 13,
   "id": "d5886025-1140-4ca0-be7f-ffb1ec057d53",
   "metadata": {},
   "outputs": [],
   "source": [
    "output_in = output_in.replace(np.nan, 0)\n",
    "output_in = output_in.fillna(0)"
   ]
  },
  {
   "cell_type": "code",
   "execution_count": 14,
   "id": "fd984c3c-034d-447d-b5da-ad249ed8ef9c",
   "metadata": {},
   "outputs": [
    {
     "name": "stdout",
     "output_type": "stream",
     "text": [
      "<class 'pandas.core.frame.DataFrame'>\n",
      "RangeIndex: 131917 entries, 0 to 131916\n",
      "Data columns (total 65 columns):\n",
      " #   Column                                   Non-Null Count   Dtype         \n",
      "---  ------                                   --------------   -----         \n",
      " 0   iso_code                                 131917 non-null  object        \n",
      " 1   continent                                131917 non-null  object        \n",
      " 2   location                                 131917 non-null  object        \n",
      " 3   date                                     131917 non-null  datetime64[ns]\n",
      " 4   total_cases                              131917 non-null  float64       \n",
      " 5   new_cases                                131917 non-null  float64       \n",
      " 6   new_cases_smoothed                       131917 non-null  float64       \n",
      " 7   total_deaths                             131917 non-null  object        \n",
      " 8   new_deaths                               131917 non-null  object        \n",
      " 9   new_deaths_smoothed                      131917 non-null  float64       \n",
      " 10  total_cases_per_million                  131917 non-null  float64       \n",
      " 11  new_cases_per_million                    131917 non-null  float64       \n",
      " 12  new_cases_smoothed_per_million           131917 non-null  float64       \n",
      " 13  total_deaths_per_million                 131917 non-null  object        \n",
      " 14  new_deaths_per_million                   131917 non-null  object        \n",
      " 15  new_deaths_smoothed_per_million          131917 non-null  float64       \n",
      " 16  reproduction_rate                        131917 non-null  object        \n",
      " 17  icu_patients                             131917 non-null  object        \n",
      " 18  icu_patients_per_million                 131917 non-null  object        \n",
      " 19  hosp_patients                            131917 non-null  object        \n",
      " 20  hosp_patients_per_million                131917 non-null  object        \n",
      " 21  weekly_icu_admissions                    131917 non-null  object        \n",
      " 22  weekly_icu_admissions_per_million        131917 non-null  object        \n",
      " 23  weekly_hosp_admissions                   131917 non-null  object        \n",
      " 24  weekly_hosp_admissions_per_million       131917 non-null  object        \n",
      " 25  new_tests                                131917 non-null  object        \n",
      " 26  total_tests                              131917 non-null  object        \n",
      " 27  total_tests_per_thousand                 131917 non-null  object        \n",
      " 28  new_tests_per_thousand                   131917 non-null  object        \n",
      " 29  new_tests_smoothed                       131917 non-null  object        \n",
      " 30  new_tests_smoothed_per_thousand          131917 non-null  object        \n",
      " 31  positive_rate                            131917 non-null  object        \n",
      " 32  tests_per_case                           131917 non-null  object        \n",
      " 33  tests_units                              131917 non-null  object        \n",
      " 34  total_vaccinations                       131917 non-null  object        \n",
      " 35  people_vaccinated                        131917 non-null  object        \n",
      " 36  people_fully_vaccinated                  131917 non-null  object        \n",
      " 37  total_boosters                           131917 non-null  object        \n",
      " 38  new_vaccinations                         131917 non-null  object        \n",
      " 39  new_vaccinations_smoothed                131917 non-null  object        \n",
      " 40  total_vaccinations_per_hundred           131917 non-null  object        \n",
      " 41  people_vaccinated_per_hundred            131917 non-null  object        \n",
      " 42  people_fully_vaccinated_per_hundred      131917 non-null  object        \n",
      " 43  total_boosters_per_hundred               131917 non-null  object        \n",
      " 44  new_vaccinations_smoothed_per_million    131917 non-null  object        \n",
      " 45  stringency_index                         131917 non-null  float64       \n",
      " 46  population                               131917 non-null  float64       \n",
      " 47  population_density                       131917 non-null  float64       \n",
      " 48  median_age                               131917 non-null  float64       \n",
      " 49  aged_65_older                            131917 non-null  float64       \n",
      " 50  aged_70_older                            131917 non-null  float64       \n",
      " 51  gdp_per_capita                           131917 non-null  float64       \n",
      " 52  extreme_poverty                          131917 non-null  object        \n",
      " 53  cardiovasc_death_rate                    131917 non-null  float64       \n",
      " 54  diabetes_prevalence                      131917 non-null  float64       \n",
      " 55  female_smokers                           131917 non-null  object        \n",
      " 56  male_smokers                             131917 non-null  object        \n",
      " 57  handwashing_facilities                   131917 non-null  float64       \n",
      " 58  hospital_beds_per_thousand               131917 non-null  float64       \n",
      " 59  life_expectancy                          131917 non-null  float64       \n",
      " 60  human_development_index                  131917 non-null  float64       \n",
      " 61  excess_mortality_cumulative_absolute     131917 non-null  object        \n",
      " 62  excess_mortality_cumulative              131917 non-null  object        \n",
      " 63  excess_mortality                         131917 non-null  object        \n",
      " 64  excess_mortality_cumulative_per_million  131917 non-null  object        \n",
      "dtypes: datetime64[ns](1), float64(21), object(43)\n",
      "memory usage: 65.4+ MB\n"
     ]
    }
   ],
   "source": [
    "output_in.info()"
   ]
  },
  {
   "cell_type": "markdown",
   "id": "a41b4b27-20dc-4934-ade2-f818e3f0133c",
   "metadata": {},
   "source": [
    "#### Getting the unique type of the 'test_units' column to build the mapping"
   ]
  },
  {
   "cell_type": "code",
   "execution_count": 15,
   "id": "bb22837f-560b-4a6f-a59f-f5d14ff8e39c",
   "metadata": {},
   "outputs": [
    {
     "data": {
      "text/plain": [
       "array([0, 'tests performed', 'samples tested', 'people tested',\n",
       "       'units unclear'], dtype=object)"
      ]
     },
     "execution_count": 15,
     "metadata": {},
     "output_type": "execute_result"
    }
   ],
   "source": [
    "output_in[\"tests_units\"].unique()"
   ]
  },
  {
   "cell_type": "markdown",
   "id": "5f7297e9-518b-4b00-83b3-375049c928ff",
   "metadata": {},
   "source": [
    "#### Making of the mapping and replacing the values using the mapping"
   ]
  },
  {
   "cell_type": "code",
   "execution_count": 16,
   "id": "0010bf23-4721-4c92-a04c-336b4a90bca2",
   "metadata": {},
   "outputs": [
    {
     "data": {
      "text/plain": [
       "array([0, 1, 2, 3, 4], dtype=int64)"
      ]
     },
     "execution_count": 16,
     "metadata": {},
     "output_type": "execute_result"
    }
   ],
   "source": [
    "mapping = {'tests performed':1, 'samples tested':2, 'people tested':3, 'units unclear':4}\n",
    "output_in.replace({'tests_units': mapping}, inplace = True)\n",
    "output_in[\"tests_units\"].unique()"
   ]
  },
  {
   "cell_type": "markdown",
   "id": "6908edcc-1d24-4755-b2a0-fd4269cbcb6a",
   "metadata": {},
   "source": [
    "#### Changing the data-types of the columns wanted to Float: All columns were changed to Float except the first 4(iso_type, continent, location and date)"
   ]
  },
  {
   "cell_type": "code",
   "execution_count": 17,
   "id": "e23c9bb6-9c46-404b-beda-d2093e0ff0f1",
   "metadata": {},
   "outputs": [
    {
     "name": "stdout",
     "output_type": "stream",
     "text": [
      "<class 'pandas.core.frame.DataFrame'>\n",
      "RangeIndex: 131917 entries, 0 to 131916\n",
      "Data columns (total 65 columns):\n",
      " #   Column                                   Non-Null Count   Dtype         \n",
      "---  ------                                   --------------   -----         \n",
      " 0   iso_code                                 131917 non-null  object        \n",
      " 1   continent                                131917 non-null  object        \n",
      " 2   location                                 131917 non-null  object        \n",
      " 3   date                                     131917 non-null  datetime64[ns]\n",
      " 4   total_cases                              131917 non-null  float64       \n",
      " 5   new_cases                                131917 non-null  float64       \n",
      " 6   new_cases_smoothed                       131917 non-null  float64       \n",
      " 7   total_deaths                             131917 non-null  float64       \n",
      " 8   new_deaths                               131917 non-null  float64       \n",
      " 9   new_deaths_smoothed                      131917 non-null  float64       \n",
      " 10  total_cases_per_million                  131917 non-null  float64       \n",
      " 11  new_cases_per_million                    131917 non-null  float64       \n",
      " 12  new_cases_smoothed_per_million           131917 non-null  float64       \n",
      " 13  total_deaths_per_million                 131917 non-null  float64       \n",
      " 14  new_deaths_per_million                   131917 non-null  float64       \n",
      " 15  new_deaths_smoothed_per_million          131917 non-null  float64       \n",
      " 16  reproduction_rate                        131917 non-null  float64       \n",
      " 17  icu_patients                             131917 non-null  float64       \n",
      " 18  icu_patients_per_million                 131917 non-null  float64       \n",
      " 19  hosp_patients                            131917 non-null  float64       \n",
      " 20  hosp_patients_per_million                131917 non-null  float64       \n",
      " 21  weekly_icu_admissions                    131917 non-null  float64       \n",
      " 22  weekly_icu_admissions_per_million        131917 non-null  float64       \n",
      " 23  weekly_hosp_admissions                   131917 non-null  float64       \n",
      " 24  weekly_hosp_admissions_per_million       131917 non-null  float64       \n",
      " 25  new_tests                                131917 non-null  float64       \n",
      " 26  total_tests                              131917 non-null  float64       \n",
      " 27  total_tests_per_thousand                 131917 non-null  float64       \n",
      " 28  new_tests_per_thousand                   131917 non-null  float64       \n",
      " 29  new_tests_smoothed                       131917 non-null  float64       \n",
      " 30  new_tests_smoothed_per_thousand          131917 non-null  float64       \n",
      " 31  positive_rate                            131917 non-null  float64       \n",
      " 32  tests_per_case                           131917 non-null  float64       \n",
      " 33  tests_units                              131917 non-null  float64       \n",
      " 34  total_vaccinations                       131917 non-null  float64       \n",
      " 35  people_vaccinated                        131917 non-null  float64       \n",
      " 36  people_fully_vaccinated                  131917 non-null  float64       \n",
      " 37  total_boosters                           131917 non-null  float64       \n",
      " 38  new_vaccinations                         131917 non-null  float64       \n",
      " 39  new_vaccinations_smoothed                131917 non-null  float64       \n",
      " 40  total_vaccinations_per_hundred           131917 non-null  float64       \n",
      " 41  people_vaccinated_per_hundred            131917 non-null  float64       \n",
      " 42  people_fully_vaccinated_per_hundred      131917 non-null  float64       \n",
      " 43  total_boosters_per_hundred               131917 non-null  float64       \n",
      " 44  new_vaccinations_smoothed_per_million    131917 non-null  float64       \n",
      " 45  stringency_index                         131917 non-null  float64       \n",
      " 46  population                               131917 non-null  float64       \n",
      " 47  population_density                       131917 non-null  float64       \n",
      " 48  median_age                               131917 non-null  float64       \n",
      " 49  aged_65_older                            131917 non-null  float64       \n",
      " 50  aged_70_older                            131917 non-null  float64       \n",
      " 51  gdp_per_capita                           131917 non-null  float64       \n",
      " 52  extreme_poverty                          131917 non-null  float64       \n",
      " 53  cardiovasc_death_rate                    131917 non-null  float64       \n",
      " 54  diabetes_prevalence                      131917 non-null  float64       \n",
      " 55  female_smokers                           131917 non-null  float64       \n",
      " 56  male_smokers                             131917 non-null  float64       \n",
      " 57  handwashing_facilities                   131917 non-null  float64       \n",
      " 58  hospital_beds_per_thousand               131917 non-null  float64       \n",
      " 59  life_expectancy                          131917 non-null  float64       \n",
      " 60  human_development_index                  131917 non-null  float64       \n",
      " 61  excess_mortality_cumulative_absolute     131917 non-null  float64       \n",
      " 62  excess_mortality_cumulative              131917 non-null  float64       \n",
      " 63  excess_mortality                         131917 non-null  float64       \n",
      " 64  excess_mortality_cumulative_per_million  131917 non-null  float64       \n",
      "dtypes: datetime64[ns](1), float64(61), object(3)\n",
      "memory usage: 65.4+ MB\n"
     ]
    }
   ],
   "source": [
    "for i in columns_in_db[5:]:\n",
    "    output_in[i] = output_in[i].astype(np.float64)\n",
    "output_in.info()"
   ]
  },
  {
   "cell_type": "markdown",
   "id": "33d19954-c639-436d-8292-25a9a61f525d",
   "metadata": {},
   "source": [
    "#### Connecting to the Final databse base to be use in the project"
   ]
  },
  {
   "cell_type": "code",
   "execution_count": 27,
   "id": "1fc2bdaa-4d32-40f8-b97d-673fe183a158",
   "metadata": {},
   "outputs": [],
   "source": [
    "driver = 'SQL Server'\n",
    "server = 'LAPTOP-DE8P4OSA'\n",
    "database = 'COv3'\n",
    "table ='dbo.Covid_19'\n",
    "tcon = 'yes'\n",
    "\n",
    "engine = sqlalchemy.create_engine(f'mssql+pyodbc://{server}/{database}?trusted_connection={tcon}&driver={driver}')"
   ]
  },
  {
   "cell_type": "markdown",
   "id": "3a56999a-9ee5-4771-9ec1-a66115068c21",
   "metadata": {},
   "source": [
    "#### Pushing the data to the database"
   ]
  },
  {
   "cell_type": "code",
   "execution_count": 54,
   "id": "c6f5239a-3a56-4703-97b7-00087b147c59",
   "metadata": {},
   "outputs": [
    {
     "name": "stdout",
     "output_type": "stream",
     "text": [
      "Done\n"
     ]
    }
   ],
   "source": [
    "output_in.to_sql(table, engine, if_exists='append')\n",
    "print(\"Done\")"
   ]
  },
  {
   "cell_type": "markdown",
   "id": "d51dbdf6-05e8-4fcb-9cde-f19fff5f6152",
   "metadata": {},
   "source": [
    "#### Checking the lengnth of the 'should be' with the 'actual'"
   ]
  },
  {
   "cell_type": "code",
   "execution_count": 28,
   "id": "5717bc10-dc52-49dc-8db4-0f158958efb4",
   "metadata": {},
   "outputs": [
    {
     "data": {
      "text/plain": [
       "65"
      ]
     },
     "execution_count": 28,
     "metadata": {},
     "output_type": "execute_result"
    }
   ],
   "source": [
    "len(columns_in_db)#Size the data should be"
   ]
  },
  {
   "cell_type": "code",
   "execution_count": 43,
   "id": "1915d74a-ed95-4f59-9998-9f1a5fb9e927",
   "metadata": {},
   "outputs": [
    {
     "data": {
      "text/plain": [
       "65"
      ]
     },
     "execution_count": 43,
     "metadata": {},
     "output_type": "execute_result"
    }
   ],
   "source": [
    "len(columns_in_db_in)#Actual size after the fixing steps"
   ]
  },
  {
   "cell_type": "code",
   "execution_count": 44,
   "id": "ff83f9ed-6700-4a4f-9f71-344a883838d5",
   "metadata": {},
   "outputs": [
    {
     "data": {
      "text/html": [
       "<div>\n",
       "<style scoped>\n",
       "    .dataframe tbody tr th:only-of-type {\n",
       "        vertical-align: middle;\n",
       "    }\n",
       "\n",
       "    .dataframe tbody tr th {\n",
       "        vertical-align: top;\n",
       "    }\n",
       "\n",
       "    .dataframe thead th {\n",
       "        text-align: right;\n",
       "    }\n",
       "</style>\n",
       "<table border=\"1\" class=\"dataframe\">\n",
       "  <thead>\n",
       "    <tr style=\"text-align: right;\">\n",
       "      <th></th>\n",
       "      <th>total_cases</th>\n",
       "      <th>new_cases</th>\n",
       "      <th>new_cases_smoothed</th>\n",
       "      <th>new_deaths_smoothed</th>\n",
       "      <th>total_cases_per_million</th>\n",
       "      <th>new_cases_per_million</th>\n",
       "      <th>new_cases_smoothed_per_million</th>\n",
       "      <th>new_deaths_smoothed_per_million</th>\n",
       "      <th>stringency_index</th>\n",
       "      <th>population</th>\n",
       "      <th>...</th>\n",
       "      <th>median_age</th>\n",
       "      <th>aged_65_older</th>\n",
       "      <th>aged_70_older</th>\n",
       "      <th>gdp_per_capita</th>\n",
       "      <th>cardiovasc_death_rate</th>\n",
       "      <th>diabetes_prevalence</th>\n",
       "      <th>handwashing_facilities</th>\n",
       "      <th>hospital_beds_per_thousand</th>\n",
       "      <th>life_expectancy</th>\n",
       "      <th>human_development_index</th>\n",
       "    </tr>\n",
       "  </thead>\n",
       "  <tbody>\n",
       "    <tr>\n",
       "      <th>count</th>\n",
       "      <td>1.247890e+05</td>\n",
       "      <td>124787.000000</td>\n",
       "      <td>123744.00000</td>\n",
       "      <td>123744.000000</td>\n",
       "      <td>124148.000000</td>\n",
       "      <td>124146.000000</td>\n",
       "      <td>123108.000000</td>\n",
       "      <td>123108.000000</td>\n",
       "      <td>107901.000000</td>\n",
       "      <td>1.309800e+05</td>\n",
       "      <td>...</td>\n",
       "      <td>113860.000000</td>\n",
       "      <td>112600.000000</td>\n",
       "      <td>113238.000000</td>\n",
       "      <td>114601.000000</td>\n",
       "      <td>114116.000000</td>\n",
       "      <td>117824.000000</td>\n",
       "      <td>57428.000000</td>\n",
       "      <td>103706.000000</td>\n",
       "      <td>122639.000000</td>\n",
       "      <td>114212.000000</td>\n",
       "    </tr>\n",
       "    <tr>\n",
       "      <th>mean</th>\n",
       "      <td>2.023953e+06</td>\n",
       "      <td>8339.662048</td>\n",
       "      <td>8363.35886</td>\n",
       "      <td>168.757136</td>\n",
       "      <td>19473.706358</td>\n",
       "      <td>85.814654</td>\n",
       "      <td>85.774370</td>\n",
       "      <td>1.442407</td>\n",
       "      <td>56.406754</td>\n",
       "      <td>1.576538e+08</td>\n",
       "      <td>...</td>\n",
       "      <td>30.500705</td>\n",
       "      <td>8.745427</td>\n",
       "      <td>5.532704</td>\n",
       "      <td>19233.466519</td>\n",
       "      <td>259.967348</td>\n",
       "      <td>8.037243</td>\n",
       "      <td>50.868132</td>\n",
       "      <td>3.029859</td>\n",
       "      <td>73.258118</td>\n",
       "      <td>0.726236</td>\n",
       "    </tr>\n",
       "    <tr>\n",
       "      <th>std</th>\n",
       "      <td>1.156084e+07</td>\n",
       "      <td>43505.677525</td>\n",
       "      <td>43024.44986</td>\n",
       "      <td>818.524925</td>\n",
       "      <td>32359.712744</td>\n",
       "      <td>197.891796</td>\n",
       "      <td>167.404888</td>\n",
       "      <td>3.086955</td>\n",
       "      <td>20.633144</td>\n",
       "      <td>7.289346e+08</td>\n",
       "      <td>...</td>\n",
       "      <td>9.116180</td>\n",
       "      <td>6.183684</td>\n",
       "      <td>4.216617</td>\n",
       "      <td>20064.364866</td>\n",
       "      <td>119.836195</td>\n",
       "      <td>4.307673</td>\n",
       "      <td>31.821927</td>\n",
       "      <td>2.455862</td>\n",
       "      <td>7.533214</td>\n",
       "      <td>0.150046</td>\n",
       "    </tr>\n",
       "    <tr>\n",
       "      <th>min</th>\n",
       "      <td>1.000000e+00</td>\n",
       "      <td>-74347.000000</td>\n",
       "      <td>-6223.00000</td>\n",
       "      <td>-232.143000</td>\n",
       "      <td>0.001000</td>\n",
       "      <td>-3125.829000</td>\n",
       "      <td>-272.971000</td>\n",
       "      <td>-10.844000</td>\n",
       "      <td>0.000000</td>\n",
       "      <td>4.700000e+01</td>\n",
       "      <td>...</td>\n",
       "      <td>15.100000</td>\n",
       "      <td>1.144000</td>\n",
       "      <td>0.526000</td>\n",
       "      <td>661.240000</td>\n",
       "      <td>79.370000</td>\n",
       "      <td>0.990000</td>\n",
       "      <td>1.188000</td>\n",
       "      <td>0.100000</td>\n",
       "      <td>53.280000</td>\n",
       "      <td>0.394000</td>\n",
       "    </tr>\n",
       "    <tr>\n",
       "      <th>25%</th>\n",
       "      <td>2.363000e+03</td>\n",
       "      <td>3.000000</td>\n",
       "      <td>10.28600</td>\n",
       "      <td>0.143000</td>\n",
       "      <td>404.954000</td>\n",
       "      <td>0.331000</td>\n",
       "      <td>1.655000</td>\n",
       "      <td>0.003000</td>\n",
       "      <td>42.590000</td>\n",
       "      <td>2.078723e+06</td>\n",
       "      <td>...</td>\n",
       "      <td>22.200000</td>\n",
       "      <td>3.466000</td>\n",
       "      <td>2.063000</td>\n",
       "      <td>4449.898000</td>\n",
       "      <td>168.711000</td>\n",
       "      <td>5.310000</td>\n",
       "      <td>20.859000</td>\n",
       "      <td>1.300000</td>\n",
       "      <td>67.920000</td>\n",
       "      <td>0.602000</td>\n",
       "    </tr>\n",
       "    <tr>\n",
       "      <th>50%</th>\n",
       "      <td>2.677900e+04</td>\n",
       "      <td>104.000000</td>\n",
       "      <td>130.00000</td>\n",
       "      <td>2.000000</td>\n",
       "      <td>3126.880500</td>\n",
       "      <td>11.294000</td>\n",
       "      <td>15.835000</td>\n",
       "      <td>0.208000</td>\n",
       "      <td>57.410000</td>\n",
       "      <td>9.749625e+06</td>\n",
       "      <td>...</td>\n",
       "      <td>29.700000</td>\n",
       "      <td>6.378000</td>\n",
       "      <td>3.871000</td>\n",
       "      <td>12951.839000</td>\n",
       "      <td>243.811000</td>\n",
       "      <td>7.110000</td>\n",
       "      <td>49.839000</td>\n",
       "      <td>2.400000</td>\n",
       "      <td>74.620000</td>\n",
       "      <td>0.744000</td>\n",
       "    </tr>\n",
       "    <tr>\n",
       "      <th>75%</th>\n",
       "      <td>2.614380e+05</td>\n",
       "      <td>1074.000000</td>\n",
       "      <td>1130.71400</td>\n",
       "      <td>18.571000</td>\n",
       "      <td>24579.185500</td>\n",
       "      <td>83.046250</td>\n",
       "      <td>92.656000</td>\n",
       "      <td>1.388000</td>\n",
       "      <td>72.220000</td>\n",
       "      <td>3.734479e+07</td>\n",
       "      <td>...</td>\n",
       "      <td>39.100000</td>\n",
       "      <td>14.178000</td>\n",
       "      <td>8.678000</td>\n",
       "      <td>27216.445000</td>\n",
       "      <td>329.942000</td>\n",
       "      <td>10.080000</td>\n",
       "      <td>83.241000</td>\n",
       "      <td>4.000000</td>\n",
       "      <td>78.740000</td>\n",
       "      <td>0.845000</td>\n",
       "    </tr>\n",
       "    <tr>\n",
       "      <th>max</th>\n",
       "      <td>2.503681e+08</td>\n",
       "      <td>907963.000000</td>\n",
       "      <td>826457.57100</td>\n",
       "      <td>14703.286000</td>\n",
       "      <td>237237.103000</td>\n",
       "      <td>8620.690000</td>\n",
       "      <td>3385.473000</td>\n",
       "      <td>94.804000</td>\n",
       "      <td>100.000000</td>\n",
       "      <td>7.874966e+09</td>\n",
       "      <td>...</td>\n",
       "      <td>48.200000</td>\n",
       "      <td>27.049000</td>\n",
       "      <td>18.493000</td>\n",
       "      <td>116935.600000</td>\n",
       "      <td>724.417000</td>\n",
       "      <td>30.530000</td>\n",
       "      <td>100.000000</td>\n",
       "      <td>13.800000</td>\n",
       "      <td>86.750000</td>\n",
       "      <td>0.957000</td>\n",
       "    </tr>\n",
       "  </tbody>\n",
       "</table>\n",
       "<p>8 rows × 21 columns</p>\n",
       "</div>"
      ],
      "text/plain": [
       "        total_cases      new_cases  new_cases_smoothed  new_deaths_smoothed  \\\n",
       "count  1.247890e+05  124787.000000        123744.00000        123744.000000   \n",
       "mean   2.023953e+06    8339.662048          8363.35886           168.757136   \n",
       "std    1.156084e+07   43505.677525         43024.44986           818.524925   \n",
       "min    1.000000e+00  -74347.000000         -6223.00000          -232.143000   \n",
       "25%    2.363000e+03       3.000000            10.28600             0.143000   \n",
       "50%    2.677900e+04     104.000000           130.00000             2.000000   \n",
       "75%    2.614380e+05    1074.000000          1130.71400            18.571000   \n",
       "max    2.503681e+08  907963.000000        826457.57100         14703.286000   \n",
       "\n",
       "       total_cases_per_million  new_cases_per_million  \\\n",
       "count            124148.000000          124146.000000   \n",
       "mean              19473.706358              85.814654   \n",
       "std               32359.712744             197.891796   \n",
       "min                   0.001000           -3125.829000   \n",
       "25%                 404.954000               0.331000   \n",
       "50%                3126.880500              11.294000   \n",
       "75%               24579.185500              83.046250   \n",
       "max              237237.103000            8620.690000   \n",
       "\n",
       "       new_cases_smoothed_per_million  new_deaths_smoothed_per_million  \\\n",
       "count                   123108.000000                    123108.000000   \n",
       "mean                        85.774370                         1.442407   \n",
       "std                        167.404888                         3.086955   \n",
       "min                       -272.971000                       -10.844000   \n",
       "25%                          1.655000                         0.003000   \n",
       "50%                         15.835000                         0.208000   \n",
       "75%                         92.656000                         1.388000   \n",
       "max                       3385.473000                        94.804000   \n",
       "\n",
       "       stringency_index    population  ...     median_age  aged_65_older  \\\n",
       "count     107901.000000  1.309800e+05  ...  113860.000000  112600.000000   \n",
       "mean          56.406754  1.576538e+08  ...      30.500705       8.745427   \n",
       "std           20.633144  7.289346e+08  ...       9.116180       6.183684   \n",
       "min            0.000000  4.700000e+01  ...      15.100000       1.144000   \n",
       "25%           42.590000  2.078723e+06  ...      22.200000       3.466000   \n",
       "50%           57.410000  9.749625e+06  ...      29.700000       6.378000   \n",
       "75%           72.220000  3.734479e+07  ...      39.100000      14.178000   \n",
       "max          100.000000  7.874966e+09  ...      48.200000      27.049000   \n",
       "\n",
       "       aged_70_older  gdp_per_capita  cardiovasc_death_rate  \\\n",
       "count  113238.000000   114601.000000          114116.000000   \n",
       "mean        5.532704    19233.466519             259.967348   \n",
       "std         4.216617    20064.364866             119.836195   \n",
       "min         0.526000      661.240000              79.370000   \n",
       "25%         2.063000     4449.898000             168.711000   \n",
       "50%         3.871000    12951.839000             243.811000   \n",
       "75%         8.678000    27216.445000             329.942000   \n",
       "max        18.493000   116935.600000             724.417000   \n",
       "\n",
       "       diabetes_prevalence  handwashing_facilities  \\\n",
       "count        117824.000000            57428.000000   \n",
       "mean              8.037243               50.868132   \n",
       "std               4.307673               31.821927   \n",
       "min               0.990000                1.188000   \n",
       "25%               5.310000               20.859000   \n",
       "50%               7.110000               49.839000   \n",
       "75%              10.080000               83.241000   \n",
       "max              30.530000              100.000000   \n",
       "\n",
       "       hospital_beds_per_thousand  life_expectancy  human_development_index  \n",
       "count               103706.000000    122639.000000            114212.000000  \n",
       "mean                     3.029859        73.258118                 0.726236  \n",
       "std                      2.455862         7.533214                 0.150046  \n",
       "min                      0.100000        53.280000                 0.394000  \n",
       "25%                      1.300000        67.920000                 0.602000  \n",
       "50%                      2.400000        74.620000                 0.744000  \n",
       "75%                      4.000000        78.740000                 0.845000  \n",
       "max                     13.800000        86.750000                 0.957000  \n",
       "\n",
       "[8 rows x 21 columns]"
      ]
     },
     "execution_count": 44,
     "metadata": {},
     "output_type": "execute_result"
    }
   ],
   "source": [
    "output_in.describe()"
   ]
  }
 ],
 "metadata": {
  "kernelspec": {
   "display_name": "Python 3",
   "language": "python",
   "name": "python3"
  },
  "language_info": {
   "codemirror_mode": {
    "name": "ipython",
    "version": 3
   },
   "file_extension": ".py",
   "mimetype": "text/x-python",
   "name": "python",
   "nbconvert_exporter": "python",
   "pygments_lexer": "ipython3",
   "version": "3.8.8"
  },
  "widgets": {
   "application/vnd.jupyter.widget-state+json": {
    "state": {},
    "version_major": 2,
    "version_minor": 0
   }
  }
 },
 "nbformat": 4,
 "nbformat_minor": 5
}
