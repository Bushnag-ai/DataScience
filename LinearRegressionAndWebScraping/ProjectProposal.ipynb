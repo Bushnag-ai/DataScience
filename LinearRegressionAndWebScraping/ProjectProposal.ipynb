{
 "cells": [
  {
   "cell_type": "markdown",
   "id": "c32747e7-df91-44bf-93f9-d1d55582d95d",
   "metadata": {},
   "source": [
    "# Project Proposal - YallaMotor.com - Scraping"
   ]
  },
  {
   "cell_type": "markdown",
   "id": "706ae978-e77b-4b15-b7b3-3913608b7527",
   "metadata": {},
   "source": [
    "## Stakeholders\n",
    "##### In this project the goal was to scrape data from a website using, BeautifulSoup and selenium. The purpose is to gain the ability to find/gather data aside from the EDA processes. \n",
    "\n",
    "## Data sources\n",
    "##### In this project we will be getting our data from https://ksa.yallamotor.com for new_cars. But the data is not enought nor answers our questions. So the data will be gathered from all the gulf countries where this site operates: KSA, UAE, KUWAIT, QATAR, BAHRAIN, OMAN and EGYPT.\n",
    "\n",
    "##### Gathering data from thie site gives us a sample of the total population which should give us an idea about the new car market in GULF area.\n",
    "\n",
    "## Why?\n",
    "##### We will be answering questions where would the car cost more, would the engine type affect the price...etc.\n",
    "\n",
    "## Downsides.\n",
    "##### Unfortunately the data does not include any purchase history. Thus the models will be used on knowing what the would be priced based on features in different countries.\n",
    "\n",
    "## Models: \n",
    "##### Linear Regression, Regression and Logistic Regression.\n"
   ]
  },
  {
   "cell_type": "markdown",
   "id": "ec8ba660-597a-48a5-99d3-898902e3876e",
   "metadata": {},
   "source": []
  }
 ],
 "metadata": {
  "kernelspec": {
   "display_name": "Python 3",
   "language": "python",
   "name": "python3"
  },
  "language_info": {
   "codemirror_mode": {
    "name": "ipython",
    "version": 3
   },
   "file_extension": ".py",
   "mimetype": "text/x-python",
   "name": "python",
   "nbconvert_exporter": "python",
   "pygments_lexer": "ipython3",
   "version": "3.8.8"
  },
  "widgets": {
   "application/vnd.jupyter.widget-state+json": {
    "state": {},
    "version_major": 2,
    "version_minor": 0
   }
  }
 },
 "nbformat": 4,
 "nbformat_minor": 5
}
